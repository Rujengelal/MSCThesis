{
  "cells": [
    {
      "cell_type": "markdown",
      "metadata": {
        "id": "view-in-github",
        "colab_type": "text"
      },
      "source": [
        "<a href=\"https://colab.research.google.com/github/Rujengelal/MSCThesis/blob/main/MSCThesis.ipynb\" target=\"_parent\"><img src=\"https://colab.research.google.com/assets/colab-badge.svg\" alt=\"Open In Colab\"/></a>"
      ]
    },
    {
      "cell_type": "markdown",
      "metadata": {
        "id": "re_MNgFGHZXn"
      },
      "source": [
        "### Installing dependencies"
      ]
    },
    {
      "cell_type": "code",
      "execution_count": 9,
      "metadata": {
        "id": "7hu8-OV1HZXo",
        "collapsed": true
      },
      "outputs": [],
      "source": [
        "!pip install -q flwr[simulation] flwr-datasets[vision] torch torchvision"
      ]
    },
    {
      "cell_type": "code",
      "execution_count": 10,
      "metadata": {
        "id": "lQeAT6nmHZXp",
        "outputId": "cccf0146-a3e0-42f7-c5a0-f235e607c328",
        "colab": {
          "base_uri": "https://localhost:8080/"
        }
      },
      "outputs": [
        {
          "output_type": "stream",
          "name": "stdout",
          "text": [
            "Training on cpu\n",
            "Flower 1.19.0 / PyTorch 2.6.0+cu124\n"
          ]
        }
      ],
      "source": [
        "from collections import OrderedDict\n",
        "from typing import Dict, List, Optional, Tuple\n",
        "\n",
        "from pathlib import Path\n",
        "from copy import deepcopy\n",
        "\n",
        "import numpy as np\n",
        "import torch\n",
        "import torch.nn as nn\n",
        "import torch.nn.functional as F\n",
        "import torchvision.transforms as transforms\n",
        "from torch.utils.data import DataLoader\n",
        "\n",
        "import flwr\n",
        "from flwr.client import Client, ClientApp, NumPyClient\n",
        "from flwr.common import Context\n",
        "from flwr.server import ServerApp, ServerConfig, ServerAppComponents\n",
        "from flwr.server.strategy import Strategy\n",
        "from flwr.simulation import run_simulation\n",
        "from flwr_datasets import FederatedDataset\n",
        "\n",
        "DEVICE = torch.device(\"cuda\" if torch.cuda.is_available() else \"cpu\")  # Try \"cuda\" to train on GPU\n",
        "print(f\"Training on {DEVICE}\")\n",
        "print(f\"Flower {flwr.__version__} / PyTorch {torch.__version__}\")"
      ]
    },
    {
      "cell_type": "markdown",
      "metadata": {
        "id": "mQEUwEyAHZXp"
      },
      "source": [
        "It is possible to switch to a runtime that has GPU acceleration enabled (on Google Colab: `Runtime > Change runtime type > Hardware acclerator: GPU > Save`). Note, however, that Google Colab is not always able to offer GPU acceleration. If you see an error related to GPU availability in one of the following sections, consider switching back to CPU-based execution by setting `DEVICE = torch.device(\"cpu\")`. If the runtime has GPU acceleration enabled, you should see the output `Training on cuda`, otherwise it'll say `Training on cpu`."
      ]
    },
    {
      "cell_type": "markdown",
      "metadata": {
        "id": "vWub3-HRHZXq"
      },
      "source": [
        "### Data loading\n",
        "\n",
        "Let's now load the CIFAR-10 training and test set, partition them into ten smaller datasets (each split into training and validation set), and wrap everything in their own `DataLoader`."
      ]
    },
    {
      "cell_type": "code",
      "execution_count": 11,
      "metadata": {
        "id": "InVRFqQ2HZXq"
      },
      "outputs": [],
      "source": [
        "def load_datasets(partition_id, num_partitions: int):\n",
        "    fds = FederatedDataset(dataset=\"uoft-cs/cifar10\", partitioners={\"train\": num_partitions})\n",
        "    partition = fds.load_partition(partition_id)\n",
        "    # Divide data on each node: 80% train, 20% test\n",
        "    partition_train_test = partition.train_test_split(test_size=0.2, seed=42)\n",
        "    pytorch_transforms = transforms.Compose(\n",
        "        [transforms.ToTensor(), transforms.Normalize((0.5, 0.5, 0.5), (0.5, 0.5, 0.5))]\n",
        "    )\n",
        "\n",
        "    def apply_transforms(batch):\n",
        "        # Instead of passing transforms to CIFAR10(..., transform=transform)\n",
        "        # we will use this function to dataset.with_transform(apply_transforms)\n",
        "        # The transforms object is exactly the same\n",
        "        batch[\"img\"] = [pytorch_transforms(img) for img in batch[\"img\"]]\n",
        "        return batch\n",
        "\n",
        "    partition_train_test = partition_train_test.with_transform(apply_transforms)\n",
        "    trainloader = DataLoader(partition_train_test[\"train\"], batch_size=32, shuffle=True)\n",
        "    valloader = DataLoader(partition_train_test[\"test\"], batch_size=32)\n",
        "    testset = fds.load_split(\"test\").with_transform(apply_transforms)\n",
        "    testloader = DataLoader(testset, batch_size=32)\n",
        "    return trainloader, valloader, testloader"
      ]
    },
    {
      "cell_type": "markdown",
      "metadata": {
        "id": "fxyXuoHxHZXq"
      },
      "source": [
        "### Model training/evaluation\n",
        "\n",
        "Let's continue with the usual model definition (including `set_parameters` and `get_parameters`), training and test functions:"
      ]
    },
    {
      "cell_type": "code",
      "execution_count": 12,
      "metadata": {
        "id": "Kjg4TLRPHZXq"
      },
      "outputs": [],
      "source": [
        "class Net(nn.Module):\n",
        "    def __init__(self) -> None:\n",
        "        super(Net, self).__init__()\n",
        "        self.conv1 = nn.Conv2d(3, 6, 5)\n",
        "        self.pool = nn.MaxPool2d(2, 2)\n",
        "        self.conv2 = nn.Conv2d(6, 16, 5)\n",
        "        self.fc1 = nn.Linear(16 * 5 * 5, 120)\n",
        "        self.fc2 = nn.Linear(120, 84)\n",
        "        self.fc3 = nn.Linear(84, 10)\n",
        "\n",
        "    def forward(self, x: torch.Tensor) -> torch.Tensor:\n",
        "        x = self.pool(F.relu(self.conv1(x)))\n",
        "        x = self.pool(F.relu(self.conv2(x)))\n",
        "        x = x.view(-1, 16 * 5 * 5)\n",
        "        x = F.relu(self.fc1(x))\n",
        "        x = F.relu(self.fc2(x))\n",
        "        x = self.fc3(x)\n",
        "        return x\n",
        "\n",
        "\n",
        "def get_parameters(net) -> List[np.ndarray]:\n",
        "    return [val.cpu().numpy() for _, val in net.state_dict().items()]\n",
        "\n",
        "\n",
        "def set_parameters(net, parameters: List[np.ndarray]):\n",
        "    params_dict = zip(net.state_dict().keys(), parameters)\n",
        "    state_dict = OrderedDict({k: torch.Tensor(v) for k, v in params_dict})\n",
        "    net.load_state_dict(state_dict, strict=True)\n",
        "\n",
        "\n",
        "def train(net, trainloader, epochs: int):\n",
        "    \"\"\"Train the network on the training set.\"\"\"\n",
        "    criterion = torch.nn.CrossEntropyLoss()\n",
        "    optimizer = torch.optim.Adam(net.parameters())\n",
        "    net.train()\n",
        "    for epoch in range(epochs):\n",
        "        correct, total, epoch_loss = 0, 0, 0.0\n",
        "        for batch in trainloader:\n",
        "            images, labels = batch[\"img\"], batch[\"label\"]\n",
        "            images, labels = images.to(DEVICE), labels.to(DEVICE)\n",
        "            optimizer.zero_grad()\n",
        "            outputs = net(images)\n",
        "            loss = criterion(net(images), labels)\n",
        "            loss.backward()\n",
        "            optimizer.step()\n",
        "            # Metrics\n",
        "            epoch_loss += loss\n",
        "            total += labels.size(0)\n",
        "            correct += (torch.max(outputs.data, 1)[1] == labels).sum().item()\n",
        "        epoch_loss /= len(trainloader.dataset)\n",
        "        epoch_acc = correct / total\n",
        "        print(f\"Epoch {epoch+1}: train loss {epoch_loss}, accuracy {epoch_acc}\")\n",
        "\n",
        "\n",
        "def test(net, testloader):\n",
        "    \"\"\"Evaluate the network on the entire test set.\"\"\"\n",
        "    criterion = torch.nn.CrossEntropyLoss()\n",
        "    correct, total, loss = 0, 0, 0.0\n",
        "    net.eval()\n",
        "    with torch.no_grad():\n",
        "        for batch in testloader:\n",
        "            images, labels = batch[\"img\"], batch[\"label\"]\n",
        "            images, labels = images.to(DEVICE), labels.to(DEVICE)\n",
        "            outputs = net(images)\n",
        "            loss += criterion(outputs, labels).item()\n",
        "            _, predicted = torch.max(outputs.data, 1)\n",
        "            total += labels.size(0)\n",
        "            correct += (predicted == labels).sum().item()\n",
        "    loss /= len(testloader.dataset)\n",
        "    accuracy = correct / total\n",
        "    return loss, accuracy"
      ]
    },
    {
      "cell_type": "markdown",
      "metadata": {
        "id": "QImHmAFKHZXr"
      },
      "source": [
        "### Flower client\n",
        "\n",
        "To implement the Flower client, we (again) create a subclass of `flwr.client.NumPyClient` and implement the three methods `get_parameters`, `fit`, and `evaluate`. Here, we also pass the `partition_id` to the client and use it log additional details. We then create an instance of `ClientApp` and pass it the `client_fn`."
      ]
    },
    {
      "cell_type": "code",
      "execution_count": 13,
      "metadata": {
        "id": "lP2M4rNRHZXr"
      },
      "outputs": [],
      "source": [
        "# class FlowerClient(NumPyClient):\n",
        "#     def __init__(self, partition_id, net, trainloader, valloader):\n",
        "#         self.partition_id = partition_id\n",
        "#         self.net = net\n",
        "#         self.trainloader = trainloader\n",
        "#         self.valloader = valloader\n",
        "\n",
        "#     def get_parameters(self, config):\n",
        "#         print(f\"[Client {self.partition_id}] get_parameters\")\n",
        "#         return get_parameters(self.net)\n",
        "\n",
        "#     def fit(self, parameters, config):\n",
        "#         print(f\"[Client {self.partition_id}] fit, config: {config}\")\n",
        "#         set_parameters(self.net, parameters)\n",
        "#         train(self.net, self.trainloader, epochs=1)\n",
        "#         return get_parameters(self.net), len(self.trainloader), {}\n",
        "\n",
        "#     def evaluate(self, parameters, config):\n",
        "#         print(f\"[Client {self.partition_id}] evaluate, config: {config}\")\n",
        "#         set_parameters(self.net, parameters)\n",
        "#         loss, accuracy = test(self.net, self.valloader)\n",
        "#         return float(loss), len(self.valloader), {\"accuracy\": float(accuracy)}\n",
        "\n",
        "\n",
        "# def client_fn(context: Context) -> Client:\n",
        "#     net = Net().to(DEVICE)\n",
        "#     partition_id = context.node_config[\"partition-id\"]\n",
        "#     num_partitions = context.node_config[\"num-partitions\"]\n",
        "#     trainloader, valloader, _ = load_datasets(partition_id, num_partitions)\n",
        "#     return FlowerClient(partition_id, net, trainloader, valloader).to_client()\n",
        "\n",
        "\n",
        "# # Create the ClientApp\n",
        "# client = ClientApp(client_fn=client_fn)"
      ]
    },
    {
      "cell_type": "code",
      "source": [
        "def distillation(teacher,student,data_loader,distillation_epochs: int,L,T):\n",
        "    criterion = torch.nn.CrossEntropyLoss()\n",
        "    KLLoss=nn.KLDivLoss()\n",
        "    optimizer = torch.optim.Adam(student.parameters())\n",
        "    student.train()\n",
        "    teacher.eval()\n",
        "    for epoch in range(distillation_epochs):\n",
        "        correct, total, epoch_loss = 0, 0, 0.0\n",
        "        for batch in data_loader:\n",
        "            images, labels = batch[\"img\"], batch[\"label\"]\n",
        "            images, labels = images.to(DEVICE), labels.to(DEVICE)\n",
        "            optimizer.zero_grad()\n",
        "\n",
        "            teacher_output=teacher(images)\n",
        "            teacher_soft_labels=F.softmax(teacher_output/T,dim=1)\n",
        "\n",
        "            student_output=student(images)\n",
        "            student_soft_labels=F.softmax(student_output/T,dim=1)\n",
        "\n",
        "\n",
        "            loss = KLLoss(student_soft_labels,teacher_soft_labels)*L*T*T +criterion(student_output, labels)*(1-L)\n",
        "            loss.backward()\n",
        "            optimizer.step()\n",
        "            # Metrics\n",
        "            epoch_loss += loss\n",
        "            total += labels.size(0)\n",
        "            correct += (torch.max(student_output.data, 1)[1] == labels).sum().item()\n",
        "        epoch_loss /= len(data_loader.dataset)\n",
        "        epoch_acc = correct / total\n",
        "        print(f\"Distillation Epoch {epoch+1}: train loss {epoch_loss}, accuracy {epoch_acc}\")"
      ],
      "metadata": {
        "id": "lilMXlyFSNAS"
      },
      "execution_count": 14,
      "outputs": []
    },
    {
      "cell_type": "code",
      "execution_count": 15,
      "metadata": {
        "id": "cEzzLz9H8UVL"
      },
      "outputs": [],
      "source": [
        "class FlowerClient(NumPyClient):\n",
        "    def __init__(self, partition_id, net, trainloader, valloader):\n",
        "        self.partition_id = partition_id\n",
        "        self.net = net\n",
        "        self.trainloader = trainloader\n",
        "        self.valloader = valloader\n",
        "        self.teacher_model=None\n",
        "\n",
        "        #Make directory for storing teacher models\n",
        "        #Load teacher model if it exists\n",
        "        teacher_models_dir=Path(\"teacher_models\")\n",
        "        teacher_models_dir.mkdir(parents=True,exist_ok=True)\n",
        "        self.teacher_model_path=teacher_models_dir/f\"teacher_model_{partition_id}.pt\"\n",
        "        if self.teacher_model_path.exists():\n",
        "          self.teacher_model=deepcopy(self.net)\n",
        "          self.teacher_model.load_state_dict(torch.load(self.teacher_model_path))\n",
        "\n",
        "\n",
        "\n",
        "    def get_parameters(self, config):\n",
        "        print(f\"[Client {self.partition_id}] get_parameters\")\n",
        "        return get_parameters(self.net)\n",
        "\n",
        "    def fit(self, parameters, config):\n",
        "        print(f\"[Client {self.partition_id}] fit, config: {config}\")\n",
        "        set_parameters(self.net, parameters)\n",
        "\n",
        "        #Set the teacher model based on the global model on first run\n",
        "        if self.teacher_model is None:\n",
        "          torch.save(self.net.state_dict(), self.teacher_model_path)\n",
        "\n",
        "        train(self.net, self.trainloader, epochs=1)\n",
        "        return get_parameters(self.net), len(self.trainloader), {}\n",
        "\n",
        "    def evaluate(self, parameters, config):\n",
        "        print(f\"[Client {self.partition_id}] evaluate, config: {config}\")\n",
        "        set_parameters(self.net, parameters)\n",
        "        loss, accuracy = test(self.net, self.valloader)\n",
        "        return float(loss), len(self.valloader), {\"accuracy\": float(accuracy)}\n",
        "\n",
        "\n",
        "def client_fn(context: Context) -> Client:\n",
        "    net = Net().to(DEVICE)\n",
        "    partition_id = context.node_config[\"partition-id\"]\n",
        "    num_partitions = context.node_config[\"num-partitions\"]\n",
        "    trainloader, valloader, _ = load_datasets(partition_id, num_partitions)\n",
        "    return FlowerClient(partition_id, net, trainloader, valloader).to_client()\n",
        "\n",
        "\n",
        "# Create the ClientApp\n",
        "client = ClientApp(client_fn=client_fn)"
      ]
    },
    {
      "cell_type": "code",
      "execution_count": 16,
      "metadata": {
        "id": "0ZbsmrdQHZXr",
        "outputId": "bfe7471e-bc1b-4ea6-f7e3-ebd5ab758224",
        "colab": {
          "base_uri": "https://localhost:8080/"
        }
      },
      "outputs": [
        {
          "output_type": "stream",
          "name": "stderr",
          "text": [
            "\u001b[92mINFO \u001b[0m:      Starting Flower ServerApp, config: num_rounds=3, no round_timeout\n",
            "\u001b[92mINFO \u001b[0m:      \n",
            "\u001b[92mINFO \u001b[0m:      [INIT]\n",
            "\u001b[92mINFO \u001b[0m:      Requesting initial parameters from one random client\n",
            "\u001b[36m(pid=35203)\u001b[0m 2025-07-15 18:12:29.667008: E external/local_xla/xla/stream_executor/cuda/cuda_fft.cc:477] Unable to register cuFFT factory: Attempting to register factory for plugin cuFFT when one has already been registered\n",
            "\u001b[36m(pid=35203)\u001b[0m WARNING: All log messages before absl::InitializeLog() is called are written to STDERR\n",
            "\u001b[36m(pid=35203)\u001b[0m E0000 00:00:1752603149.737738   35203 cuda_dnn.cc:8310] Unable to register cuDNN factory: Attempting to register factory for plugin cuDNN when one has already been registered\n",
            "\u001b[36m(pid=35203)\u001b[0m E0000 00:00:1752603149.752763   35203 cuda_blas.cc:1418] Unable to register cuBLAS factory: Attempting to register factory for plugin cuBLAS when one has already been registered\n",
            "\u001b[36m(ClientAppActor pid=35203)\u001b[0m /usr/local/lib/python3.11/dist-packages/jupyter_client/connect.py:28: DeprecationWarning: Jupyter is migrating its paths to use standard platformdirs\n",
            "\u001b[36m(ClientAppActor pid=35203)\u001b[0m given by the platformdirs library.  To remove this warning and\n",
            "\u001b[36m(ClientAppActor pid=35203)\u001b[0m see the appropriate new directories, set the environment variable\n",
            "\u001b[36m(ClientAppActor pid=35203)\u001b[0m `JUPYTER_PLATFORM_DIRS=1` and then run `jupyter --paths`.\n",
            "\u001b[36m(ClientAppActor pid=35203)\u001b[0m The use of platformdirs will be the default in `jupyter_core` v6\n",
            "\u001b[36m(ClientAppActor pid=35203)\u001b[0m   from jupyter_core.paths import jupyter_data_dir, jupyter_runtime_dir, secure_write\n",
            "\u001b[92mINFO \u001b[0m:      Received initial parameters from one random client\n",
            "\u001b[92mINFO \u001b[0m:      Starting evaluation of initial global parameters\n",
            "\u001b[92mINFO \u001b[0m:      Evaluation returned no results (`None`)\n",
            "\u001b[92mINFO \u001b[0m:      \n",
            "\u001b[92mINFO \u001b[0m:      [ROUND 1]\n",
            "\u001b[92mINFO \u001b[0m:      configure_fit: strategy sampled 10 clients (out of 10)\n"
          ]
        },
        {
          "output_type": "stream",
          "name": "stdout",
          "text": [
            "\u001b[36m(ClientAppActor pid=35203)\u001b[0m [Client 5] get_parameters\n",
            "\u001b[36m(ClientAppActor pid=35203)\u001b[0m [Client 0] fit, config: {}\n",
            "\u001b[36m(ClientAppActor pid=35203)\u001b[0m Epoch 1: train loss 0.06627106666564941, accuracy 0.22075\n",
            "\u001b[36m(ClientAppActor pid=35203)\u001b[0m [Client 1] fit, config: {}\n",
            "\u001b[36m(ClientAppActor pid=35203)\u001b[0m Epoch 1: train loss 0.06569749861955643, accuracy 0.2225\n",
            "\u001b[36m(ClientAppActor pid=35203)\u001b[0m [Client 5] fit, config: {}\n",
            "\u001b[36m(ClientAppActor pid=35203)\u001b[0m Epoch 1: train loss 0.06598501652479172, accuracy 0.215\n",
            "\u001b[36m(ClientAppActor pid=35203)\u001b[0m [Client 6] fit, config: {}\n",
            "\u001b[36m(ClientAppActor pid=35203)\u001b[0m Epoch 1: train loss 0.06545636057853699, accuracy 0.2235\n",
            "\u001b[36m(ClientAppActor pid=35203)\u001b[0m [Client 7] fit, config: {}\n",
            "\u001b[36m(ClientAppActor pid=35203)\u001b[0m Epoch 1: train loss 0.06620482355356216, accuracy 0.21175\n",
            "\u001b[36m(ClientAppActor pid=35203)\u001b[0m [Client 9] fit, config: {}\n",
            "\u001b[36m(ClientAppActor pid=35203)\u001b[0m Epoch 1: train loss 0.06570221483707428, accuracy 0.232\n",
            "\u001b[36m(ClientAppActor pid=35203)\u001b[0m [Client 3] fit, config: {}\n",
            "\u001b[36m(ClientAppActor pid=35203)\u001b[0m Epoch 1: train loss 0.06534557789564133, accuracy 0.23325\n",
            "\u001b[36m(ClientAppActor pid=35203)\u001b[0m [Client 8] fit, config: {}\n",
            "\u001b[36m(ClientAppActor pid=35203)\u001b[0m Epoch 1: train loss 0.06622634083032608, accuracy 0.2135\n",
            "\u001b[36m(ClientAppActor pid=35203)\u001b[0m [Client 2] fit, config: {}\n",
            "\u001b[36m(ClientAppActor pid=35203)\u001b[0m Epoch 1: train loss 0.06714692711830139, accuracy 0.19175\n",
            "\u001b[36m(ClientAppActor pid=35203)\u001b[0m [Client 4] fit, config: {}\n"
          ]
        },
        {
          "output_type": "stream",
          "name": "stderr",
          "text": [
            "\u001b[92mINFO \u001b[0m:      aggregate_fit: received 10 results and 0 failures\n",
            "\u001b[93mWARNING \u001b[0m:   No fit_metrics_aggregation_fn provided\n",
            "\u001b[92mINFO \u001b[0m:      configure_evaluate: strategy sampled 10 clients (out of 10)\n"
          ]
        },
        {
          "output_type": "stream",
          "name": "stdout",
          "text": [
            "\u001b[36m(ClientAppActor pid=35203)\u001b[0m Epoch 1: train loss 0.06694842875003815, accuracy 0.21375\n",
            "\u001b[36m(ClientAppActor pid=35203)\u001b[0m [Client 0] evaluate, config: {}\n",
            "\u001b[36m(ClientAppActor pid=35203)\u001b[0m [Client 1] evaluate, config: {}\n",
            "\u001b[36m(ClientAppActor pid=35203)\u001b[0m [Client 2] evaluate, config: {}\n",
            "\u001b[36m(ClientAppActor pid=35203)\u001b[0m [Client 3] evaluate, config: {}\n",
            "\u001b[36m(ClientAppActor pid=35203)\u001b[0m [Client 4] evaluate, config: {}\n",
            "\u001b[36m(ClientAppActor pid=35203)\u001b[0m [Client 6] evaluate, config: {}\n",
            "\u001b[36m(ClientAppActor pid=35203)\u001b[0m [Client 8] evaluate, config: {}\n",
            "\u001b[36m(ClientAppActor pid=35203)\u001b[0m [Client 5] evaluate, config: {}\n",
            "\u001b[36m(ClientAppActor pid=35203)\u001b[0m [Client 7] evaluate, config: {}\n",
            "\u001b[36m(ClientAppActor pid=35203)\u001b[0m [Client 9] evaluate, config: {}\n"
          ]
        },
        {
          "output_type": "stream",
          "name": "stderr",
          "text": [
            "\u001b[92mINFO \u001b[0m:      aggregate_evaluate: received 10 results and 0 failures\n",
            "\u001b[93mWARNING \u001b[0m:   No evaluate_metrics_aggregation_fn provided\n",
            "\u001b[92mINFO \u001b[0m:      \n",
            "\u001b[92mINFO \u001b[0m:      [ROUND 2]\n",
            "\u001b[92mINFO \u001b[0m:      configure_fit: strategy sampled 10 clients (out of 10)\n"
          ]
        },
        {
          "output_type": "stream",
          "name": "stdout",
          "text": [
            "\u001b[36m(ClientAppActor pid=35203)\u001b[0m [Client 1] fit, config: {}\n",
            "\u001b[36m(ClientAppActor pid=35203)\u001b[0m Epoch 1: train loss 0.058889225125312805, accuracy 0.30225\n",
            "\u001b[36m(ClientAppActor pid=35203)\u001b[0m [Client 2] fit, config: {}\n",
            "\u001b[36m(ClientAppActor pid=35203)\u001b[0m Epoch 1: train loss 0.05929407849907875, accuracy 0.3015\n",
            "\u001b[36m(ClientAppActor pid=35203)\u001b[0m [Client 3] fit, config: {}\n",
            "\u001b[36m(ClientAppActor pid=35203)\u001b[0m Epoch 1: train loss 0.05883588269352913, accuracy 0.305\n",
            "\u001b[36m(ClientAppActor pid=35203)\u001b[0m [Client 4] fit, config: {}\n",
            "\u001b[36m(ClientAppActor pid=35203)\u001b[0m Epoch 1: train loss 0.059462565928697586, accuracy 0.31575\n",
            "\u001b[36m(ClientAppActor pid=35203)\u001b[0m [Client 6] fit, config: {}\n",
            "\u001b[36m(ClientAppActor pid=35203)\u001b[0m Epoch 1: train loss 0.05784158408641815, accuracy 0.32375\n",
            "\u001b[36m(ClientAppActor pid=35203)\u001b[0m [Client 9] fit, config: {}\n",
            "\u001b[36m(ClientAppActor pid=35203)\u001b[0m Epoch 1: train loss 0.057969558984041214, accuracy 0.32575\n",
            "\u001b[36m(ClientAppActor pid=35203)\u001b[0m [Client 0] fit, config: {}\n",
            "\u001b[36m(ClientAppActor pid=35203)\u001b[0m Epoch 1: train loss 0.05895451828837395, accuracy 0.30425\n",
            "\u001b[36m(ClientAppActor pid=35203)\u001b[0m [Client 8] fit, config: {}\n",
            "\u001b[36m(ClientAppActor pid=35203)\u001b[0m Epoch 1: train loss 0.05870317295193672, accuracy 0.3135\n",
            "\u001b[36m(ClientAppActor pid=35203)\u001b[0m [Client 5] fit, config: {}\n",
            "\u001b[36m(ClientAppActor pid=35203)\u001b[0m Epoch 1: train loss 0.0589207299053669, accuracy 0.29475\n",
            "\u001b[36m(ClientAppActor pid=35203)\u001b[0m [Client 7] fit, config: {}\n"
          ]
        },
        {
          "output_type": "stream",
          "name": "stderr",
          "text": [
            "\u001b[92mINFO \u001b[0m:      aggregate_fit: received 10 results and 0 failures\n",
            "\u001b[92mINFO \u001b[0m:      configure_evaluate: strategy sampled 10 clients (out of 10)\n"
          ]
        },
        {
          "output_type": "stream",
          "name": "stdout",
          "text": [
            "\u001b[36m(ClientAppActor pid=35203)\u001b[0m Epoch 1: train loss 0.058720774948596954, accuracy 0.298\n",
            "\u001b[36m(ClientAppActor pid=35203)\u001b[0m [Client 1] evaluate, config: {}\n",
            "\u001b[36m(ClientAppActor pid=35203)\u001b[0m [Client 2] evaluate, config: {}\n",
            "\u001b[36m(ClientAppActor pid=35203)\u001b[0m [Client 5] evaluate, config: {}\n",
            "\u001b[36m(ClientAppActor pid=35203)\u001b[0m [Client 7] evaluate, config: {}\n",
            "\u001b[36m(ClientAppActor pid=35203)\u001b[0m [Client 8] evaluate, config: {}\n",
            "\u001b[36m(ClientAppActor pid=35203)\u001b[0m [Client 9] evaluate, config: {}\n",
            "\u001b[36m(ClientAppActor pid=35203)\u001b[0m [Client 4] evaluate, config: {}\n",
            "\u001b[36m(ClientAppActor pid=35203)\u001b[0m [Client 0] evaluate, config: {}\n",
            "\u001b[36m(ClientAppActor pid=35203)\u001b[0m [Client 6] evaluate, config: {}\n",
            "\u001b[36m(ClientAppActor pid=35203)\u001b[0m [Client 3] evaluate, config: {}\n"
          ]
        },
        {
          "output_type": "stream",
          "name": "stderr",
          "text": [
            "\u001b[92mINFO \u001b[0m:      aggregate_evaluate: received 10 results and 0 failures\n",
            "\u001b[92mINFO \u001b[0m:      \n",
            "\u001b[92mINFO \u001b[0m:      [ROUND 3]\n",
            "\u001b[92mINFO \u001b[0m:      configure_fit: strategy sampled 10 clients (out of 10)\n"
          ]
        },
        {
          "output_type": "stream",
          "name": "stdout",
          "text": [
            "\u001b[36m(ClientAppActor pid=35203)\u001b[0m [Client 0] fit, config: {}\n",
            "\u001b[36m(ClientAppActor pid=35203)\u001b[0m Epoch 1: train loss 0.0545472577214241, accuracy 0.36175\n",
            "\u001b[36m(ClientAppActor pid=35203)\u001b[0m [Client 4] fit, config: {}\n",
            "\u001b[36m(ClientAppActor pid=35203)\u001b[0m Epoch 1: train loss 0.05542402341961861, accuracy 0.358\n",
            "\u001b[36m(ClientAppActor pid=35203)\u001b[0m [Client 5] fit, config: {}\n",
            "\u001b[36m(ClientAppActor pid=35203)\u001b[0m Epoch 1: train loss 0.05519726872444153, accuracy 0.34375\n",
            "\u001b[36m(ClientAppActor pid=35203)\u001b[0m [Client 6] fit, config: {}\n",
            "\u001b[36m(ClientAppActor pid=35203)\u001b[0m Epoch 1: train loss 0.0537695586681366, accuracy 0.36975\n",
            "\u001b[36m(ClientAppActor pid=35203)\u001b[0m [Client 7] fit, config: {}\n",
            "\u001b[36m(ClientAppActor pid=35203)\u001b[0m Epoch 1: train loss 0.05482175946235657, accuracy 0.3515\n",
            "\u001b[36m(ClientAppActor pid=35203)\u001b[0m [Client 9] fit, config: {}\n",
            "\u001b[36m(ClientAppActor pid=35203)\u001b[0m Epoch 1: train loss 0.05378132686018944, accuracy 0.37675\n",
            "\u001b[36m(ClientAppActor pid=35203)\u001b[0m [Client 3] fit, config: {}\n",
            "\u001b[36m(ClientAppActor pid=35203)\u001b[0m Epoch 1: train loss 0.053783997893333435, accuracy 0.367\n",
            "\u001b[36m(ClientAppActor pid=35203)\u001b[0m [Client 8] fit, config: {}\n",
            "\u001b[36m(ClientAppActor pid=35203)\u001b[0m Epoch 1: train loss 0.0543653704226017, accuracy 0.3665\n",
            "\u001b[36m(ClientAppActor pid=35203)\u001b[0m [Client 1] fit, config: {}\n",
            "\u001b[36m(ClientAppActor pid=35203)\u001b[0m Epoch 1: train loss 0.05486612766981125, accuracy 0.35625\n",
            "\u001b[36m(ClientAppActor pid=35203)\u001b[0m [Client 2] fit, config: {}\n"
          ]
        },
        {
          "output_type": "stream",
          "name": "stderr",
          "text": [
            "\u001b[92mINFO \u001b[0m:      aggregate_fit: received 10 results and 0 failures\n",
            "\u001b[92mINFO \u001b[0m:      configure_evaluate: strategy sampled 10 clients (out of 10)\n"
          ]
        },
        {
          "output_type": "stream",
          "name": "stdout",
          "text": [
            "\u001b[36m(ClientAppActor pid=35203)\u001b[0m Epoch 1: train loss 0.05470912903547287, accuracy 0.3525\n",
            "\u001b[36m(ClientAppActor pid=35203)\u001b[0m [Client 0] evaluate, config: {}\n",
            "\u001b[36m(ClientAppActor pid=35203)\u001b[0m [Client 1] evaluate, config: {}\n",
            "\u001b[36m(ClientAppActor pid=35203)\u001b[0m [Client 4] evaluate, config: {}\n",
            "\u001b[36m(ClientAppActor pid=35203)\u001b[0m [Client 9] evaluate, config: {}\n",
            "\u001b[36m(ClientAppActor pid=35203)\u001b[0m [Client 3] evaluate, config: {}\n",
            "\u001b[36m(ClientAppActor pid=35203)\u001b[0m [Client 8] evaluate, config: {}\n",
            "\u001b[36m(ClientAppActor pid=35203)\u001b[0m [Client 2] evaluate, config: {}\n",
            "\u001b[36m(ClientAppActor pid=35203)\u001b[0m [Client 5] evaluate, config: {}\n",
            "\u001b[36m(ClientAppActor pid=35203)\u001b[0m [Client 7] evaluate, config: {}\n",
            "\u001b[36m(ClientAppActor pid=35203)\u001b[0m [Client 6] evaluate, config: {}\n"
          ]
        },
        {
          "output_type": "stream",
          "name": "stderr",
          "text": [
            "\u001b[92mINFO \u001b[0m:      aggregate_evaluate: received 10 results and 0 failures\n",
            "\u001b[92mINFO \u001b[0m:      \n",
            "\u001b[92mINFO \u001b[0m:      [SUMMARY]\n",
            "\u001b[92mINFO \u001b[0m:      Run finished 3 round(s) in 234.77s\n",
            "\u001b[92mINFO \u001b[0m:      \tHistory (loss, distributed):\n",
            "\u001b[92mINFO \u001b[0m:      \t\tround 1: 0.06421999906301498\n",
            "\u001b[92mINFO \u001b[0m:      \t\tround 2: 0.056049119234085086\n",
            "\u001b[92mINFO \u001b[0m:      \t\tround 3: 0.05268772159814835\n",
            "\u001b[92mINFO \u001b[0m:      \n"
          ]
        }
      ],
      "source": [
        "NUM_PARTITIONS = 10\n",
        "\n",
        "\n",
        "def server_fn(context: Context) -> ServerAppComponents:\n",
        "    # Configure the server for just 3 rounds of training\n",
        "    config = ServerConfig(num_rounds=3)\n",
        "    # If no strategy is provided, by default, ServerAppComponents will use FedAvg\n",
        "    return ServerAppComponents(config=config)\n",
        "\n",
        "\n",
        "# Create the ServerApp\n",
        "server = ServerApp(server_fn=server_fn)\n",
        "\n",
        "# Specify the resources each of your clients need\n",
        "# If set to none, by default, each client will be allocated 2x CPU and 0x GPUs\n",
        "backend_config = {\"client_resources\": None}\n",
        "if DEVICE.type == \"cuda\":\n",
        "    backend_config = {\"client_resources\": {\"num_gpus\": 0.5,\"num_cpus\":1}}\n",
        "\n",
        "# Run simulation\n",
        "run_simulation(\n",
        "    server_app=server,\n",
        "    client_app=client,\n",
        "    num_supernodes=NUM_PARTITIONS,\n",
        "    backend_config=backend_config,\n",
        ")"
      ]
    }
  ],
  "metadata": {
    "colab": {
      "provenance": [],
      "include_colab_link": true
    },
    "kernelspec": {
      "display_name": "Python 3",
      "name": "python3"
    }
  },
  "nbformat": 4,
  "nbformat_minor": 0
}